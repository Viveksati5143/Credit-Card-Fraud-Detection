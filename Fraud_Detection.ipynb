{
 "cells": [
  {
   "cell_type": "code",
   "execution_count": null,
   "id": "715a8b0d",
   "metadata": {},
   "outputs": [],
   "source": [
    "import pandas as pd\n",
    "import numpy as np\n",
    "from sklearn.model_selection import train_test_split\n",
    "from sklearn.linear_model import LogisticRegression\n",
    "from sklearn.metrics import accuracy_score"
   ]
  },
  {
   "attachments": {},
   "cell_type": "markdown",
   "id": "012b7e95",
   "metadata": {},
   "source": [
    "#load the data set to pandas dataframe"
   ]
  },
  {
   "cell_type": "code",
   "execution_count": null,
   "id": "03e25a44",
   "metadata": {},
   "outputs": [],
   "source": [
    "df = pd.read_csv('creditcard.csv')"
   ]
  },
  {
   "cell_type": "code",
   "execution_count": null,
   "id": "c85a5be7",
   "metadata": {
    "scrolled": true
   },
   "outputs": [],
   "source": [
    "# data set information \n",
    "df.info()"
   ]
  },
  {
   "cell_type": "code",
   "execution_count": null,
   "id": "d69e45b6",
   "metadata": {},
   "outputs": [],
   "source": [
    "#checking the missing values "
   ]
  },
  {
   "cell_type": "code",
   "execution_count": null,
   "id": "aea2a7f2",
   "metadata": {},
   "outputs": [],
   "source": [
    "df.isnull().sum()"
   ]
  },
  {
   "cell_type": "code",
   "execution_count": null,
   "id": "6c5b2e9b",
   "metadata": {},
   "outputs": [],
   "source": [
    "# distribution of non fraud transaction   0 = normal , 1 = fraud\n",
    "df['Class'].value_counts()"
   ]
  },
  {
   "cell_type": "code",
   "execution_count": null,
   "id": "77b90405",
   "metadata": {},
   "outputs": [],
   "source": [
    "# DATA SET IS UNBALANCE\n",
    "# let's separate data for analysis\n"
   ]
  },
  {
   "cell_type": "code",
   "execution_count": null,
   "id": "9825f5f0",
   "metadata": {},
   "outputs": [],
   "source": [
    "non_fraud = df[df.Class == 0]\n",
    "fraud = df[df.Class == 1]"
   ]
  },
  {
   "cell_type": "code",
   "execution_count": null,
   "id": "5792d59e",
   "metadata": {},
   "outputs": [],
   "source": [
    "len(non_fraud)"
   ]
  },
  {
   "cell_type": "code",
   "execution_count": null,
   "id": "77892898",
   "metadata": {},
   "outputs": [],
   "source": [
    "len(fraud)"
   ]
  },
  {
   "cell_type": "code",
   "execution_count": null,
   "id": "19076722",
   "metadata": {},
   "outputs": [],
   "source": [
    "non_fraud.shape"
   ]
  },
  {
   "cell_type": "code",
   "execution_count": null,
   "id": "6c15cd07",
   "metadata": {},
   "outputs": [],
   "source": [
    "fraud.shape"
   ]
  },
  {
   "cell_type": "code",
   "execution_count": null,
   "id": "9190d65f",
   "metadata": {},
   "outputs": [],
   "source": [
    "non_fraud.Amount.describe()"
   ]
  },
  {
   "cell_type": "code",
   "execution_count": null,
   "id": "f7f9aa63",
   "metadata": {},
   "outputs": [],
   "source": [
    "fraud.Amount.describe()"
   ]
  },
  {
   "cell_type": "code",
   "execution_count": null,
   "id": "ac605b96",
   "metadata": {},
   "outputs": [],
   "source": [
    "# in case of fraud mean trasaction amount is quite bigger than non_fraud"
   ]
  },
  {
   "cell_type": "code",
   "execution_count": null,
   "id": "28800c50",
   "metadata": {},
   "outputs": [],
   "source": [
    "# lets compare both\n",
    "\n",
    "df.groupby('Class').mean()"
   ]
  },
  {
   "cell_type": "code",
   "execution_count": null,
   "id": "8f02b56d",
   "metadata": {},
   "outputs": [],
   "source": [
    "# lets build sample dataset which has same amount of normal transaction and \n",
    "# fraud transaction \n",
    "\n",
    "non_fraud_sample = non_fraud.sample(492)"
   ]
  },
  {
   "cell_type": "code",
   "execution_count": null,
   "id": "3c51bb2a",
   "metadata": {},
   "outputs": [],
   "source": [
    "# concat both dataframe\n",
    "new_dataset = pd.concat([non_fraud_sample, fraud], axis = 0)   # axis 0 --> rows wise , 1 --> column wise"
   ]
  },
  {
   "cell_type": "code",
   "execution_count": null,
   "id": "66ea6c56",
   "metadata": {},
   "outputs": [],
   "source": [
    "new_dataset.head()"
   ]
  },
  {
   "cell_type": "code",
   "execution_count": null,
   "id": "2433b10f",
   "metadata": {},
   "outputs": [],
   "source": [
    "len(new_dataset)"
   ]
  },
  {
   "cell_type": "code",
   "execution_count": null,
   "id": "99a540c4",
   "metadata": {},
   "outputs": [],
   "source": [
    "new_dataset.tail()"
   ]
  },
  {
   "cell_type": "code",
   "execution_count": null,
   "id": "200b1f51",
   "metadata": {},
   "outputs": [],
   "source": [
    "new_dataset['Class'].value_counts()"
   ]
  },
  {
   "cell_type": "code",
   "execution_count": null,
   "id": "ce7fa941",
   "metadata": {},
   "outputs": [],
   "source": [
    "new_dataset.groupby('Class').mean()"
   ]
  },
  {
   "cell_type": "code",
   "execution_count": null,
   "id": "cc10b84a",
   "metadata": {},
   "outputs": [],
   "source": [
    "#spliting the data into features and target"
   ]
  },
  {
   "cell_type": "code",
   "execution_count": null,
   "id": "fabf003f",
   "metadata": {},
   "outputs": [],
   "source": [
    "X = new_dataset.drop(columns = 'Class', axis = 1)\n",
    "Y = new_dataset['Class']"
   ]
  },
  {
   "cell_type": "code",
   "execution_count": null,
   "id": "4b4a39da",
   "metadata": {},
   "outputs": [],
   "source": [
    "X"
   ]
  },
  {
   "cell_type": "code",
   "execution_count": null,
   "id": "f6c7b81c",
   "metadata": {},
   "outputs": [],
   "source": [
    "Y"
   ]
  },
  {
   "cell_type": "code",
   "execution_count": null,
   "id": "0d83af3b",
   "metadata": {},
   "outputs": [],
   "source": [
    "# spliting data into Training and Testing"
   ]
  },
  {
   "cell_type": "code",
   "execution_count": null,
   "id": "a510302e",
   "metadata": {},
   "outputs": [],
   "source": [
    "X_train, X_test, Y_train, Y_test = train_test_split(X,Y, test_size = 0.2, stratify = Y, random_state = 2)\n",
    "# 80 % of data will be stored in X train, and corresponding labels will be in Y_train\n",
    "# 20 % of data will be stored in X_test and corresponding labels will be in Y_test"
   ]
  },
  {
   "cell_type": "code",
   "execution_count": null,
   "id": "891eef9d",
   "metadata": {},
   "outputs": [],
   "source": [
    "X_train"
   ]
  },
  {
   "cell_type": "code",
   "execution_count": null,
   "id": "12a5e12c",
   "metadata": {},
   "outputs": [],
   "source": [
    "Y_train"
   ]
  },
  {
   "cell_type": "code",
   "execution_count": null,
   "id": "8833ce8f",
   "metadata": {
    "scrolled": true
   },
   "outputs": [],
   "source": [
    "X.shape,X_train.shape,X_test.shape"
   ]
  },
  {
   "cell_type": "code",
   "execution_count": null,
   "id": "a6bcfb98",
   "metadata": {},
   "outputs": [],
   "source": [
    "# Training model"
   ]
  },
  {
   "cell_type": "code",
   "execution_count": null,
   "id": "d4570c8d",
   "metadata": {},
   "outputs": [],
   "source": [
    "# Generally used the logistic Regression for binary classification problems\n",
    "from sklearn.linear_model import LogisticRegression"
   ]
  },
  {
   "cell_type": "code",
   "execution_count": null,
   "id": "737f652d",
   "metadata": {},
   "outputs": [],
   "source": [
    "model = LogisticRegression()"
   ]
  },
  {
   "cell_type": "code",
   "execution_count": null,
   "id": "9bdd827c",
   "metadata": {},
   "outputs": [],
   "source": [
    "# train data using Logistic Regression\n",
    "model.fit(X_train,Y_train)\n",
    "# fit data to model"
   ]
  },
  {
   "cell_type": "code",
   "execution_count": null,
   "id": "6ced7e21",
   "metadata": {},
   "outputs": [],
   "source": [
    "# Evaluation"
   ]
  },
  {
   "cell_type": "code",
   "execution_count": null,
   "id": "8e8033b4",
   "metadata": {},
   "outputs": [],
   "source": [
    "# Accuracy --->\n",
    "X_Train_prediction = model.predict(X_train)\n",
    "accuracy = accuracy_score(X_Train_prediction,Y_train)"
   ]
  },
  {
   "cell_type": "code",
   "execution_count": null,
   "id": "97986321",
   "metadata": {},
   "outputs": [],
   "source": [
    "accuracy"
   ]
  },
  {
   "cell_type": "code",
   "execution_count": null,
   "id": "17f1a9ac",
   "metadata": {},
   "outputs": [],
   "source": [
    "# also for test data"
   ]
  },
  {
   "cell_type": "code",
   "execution_count": null,
   "id": "8776df2c",
   "metadata": {},
   "outputs": [],
   "source": [
    "X_Test_prediction = model.predict(X_test)\n",
    "test_accuracy = accuracy_score(X_Test_prediction,Y_test)"
   ]
  },
  {
   "cell_type": "code",
   "execution_count": null,
   "id": "e0f28a4f",
   "metadata": {},
   "outputs": [],
   "source": [
    "test_accuracy"
   ]
  },
  {
   "cell_type": "code",
   "execution_count": null,
   "id": "8f854be9",
   "metadata": {},
   "outputs": [],
   "source": []
  }
 ],
 "metadata": {
  "kernelspec": {
   "display_name": "Python 3",
   "language": "python",
   "name": "python3"
  },
  "language_info": {
   "codemirror_mode": {
    "name": "ipython",
    "version": 3
   },
   "file_extension": ".py",
   "mimetype": "text/x-python",
   "name": "python",
   "nbconvert_exporter": "python",
   "pygments_lexer": "ipython3",
   "version": "3.11.0 (main, Oct 24 2022, 18:26:48) [MSC v.1933 64 bit (AMD64)]"
  },
  "vscode": {
   "interpreter": {
    "hash": "5238573367df39f7286bb46f9ff5f08f63a01a80960060ce41e3c79b190280fa"
   }
  }
 },
 "nbformat": 4,
 "nbformat_minor": 5
}
